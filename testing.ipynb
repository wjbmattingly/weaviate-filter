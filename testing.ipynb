{
 "cells": [
  {
   "cell_type": "code",
   "execution_count": 8,
   "metadata": {},
   "outputs": [],
   "source": [
    "import weaviate\n",
    "from sentence_transformers import SentenceTransformer\n",
    "from weaviate_filter import GraphQLFilter\n"
   ]
  },
  {
   "cell_type": "code",
   "execution_count": 5,
   "metadata": {},
   "outputs": [],
   "source": [
    "model = SentenceTransformer('sentence-transformers/all-MiniLM-L6-v2')"
   ]
  },
  {
   "cell_type": "code",
   "execution_count": 2,
   "metadata": {},
   "outputs": [],
   "source": [
    "WEAVIATE_URL = \"\"\n",
    "WEAVIATE_API_KEY = \"\"\n",
    "client = weaviate.Client(\n",
    "    url=WEAVIATE_URL,  # Replace w/ your endpoint\n",
    "    auth_client_secret=weaviate.AuthApiKey(api_key=WEAVIATE_API_KEY),  # Replace w/ your Weaviate instance API key\n",
    ")"
   ]
  },
  {
   "cell_type": "code",
   "execution_count": 28,
   "metadata": {},
   "outputs": [
    {
     "name": "stdout",
     "output_type": "stream",
     "text": [
      "{'_additional': {'certainty': 0.8350925743579865}, 'birth_country': 'Germany', 'building': 2, 'dlf': 3, 'gender': 'M', 'window_text': 'I was so hungry. I was always so hungry. So I went up there.'}\n",
      "\n",
      "{'_additional': {'certainty': 0.8327587842941284}, 'birth_country': 'Belgium', 'building': 2, 'dlf': 0, 'gender': 'F', 'window_text': 'I ate. I... uh...I...uh...we had...uh....'}\n",
      "\n"
     ]
    }
   ],
   "source": [
    "genders = [\"M\", \"F\"]\n",
    "countries = [\"Germany\"]\n",
    "labels = [\"dlf\", \"building\"]\n",
    "\n",
    "\n",
    "filter = GraphQLFilter()\n",
    "filter.add_list_conditions_as_operands([\"gender\"], \"Equal\", \"valueText\", genders, \"Or\")\n",
    "filter.add_list_conditions_as_operands([\"birth_country\"], \"Equal\", \"valueText\", countries, \"Or\")\n",
    "filter.add_conditions_for_multiple_paths(labels, \"GreaterThanEqual\", \"valueNumber\", 1, \"Or\")\n",
    "where_filter = filter.get_filter(operator=\"Or\")\n",
    "\n",
    "\n",
    "query = \"We were hungry\"\n",
    "query_vector = model.encode(query)\n",
    "nearVector = {\n",
    "\"vector\": query_vector\n",
    "        }\n",
    "\n",
    "\n",
    "field_options = [\"gender\", \"window_text\", \"birth_country\", \"dlf\", \"building\"]\n",
    "\n",
    "result = client.query.get(\n",
    "        \"Window\", field_options\n",
    "    ).with_near_vector(\n",
    "        nearVector\n",
    "    ).with_limit(2).with_additional(['certainty']\n",
    "    ).with_where(where_filter).do()\n",
    "for r in result[\"data\"][\"Get\"][\"Window\"]:\n",
    "    print(r)\n",
    "    print()"
   ]
  },
  {
   "cell_type": "code",
   "execution_count": null,
   "metadata": {},
   "outputs": [],
   "source": []
  }
 ],
 "metadata": {
  "kernelspec": {
   "display_name": "weaviate",
   "language": "python",
   "name": "python3"
  },
  "language_info": {
   "codemirror_mode": {
    "name": "ipython",
    "version": 3
   },
   "file_extension": ".py",
   "mimetype": "text/x-python",
   "name": "python",
   "nbconvert_exporter": "python",
   "pygments_lexer": "ipython3",
   "version": "3.10.11"
  },
  "orig_nbformat": 4
 },
 "nbformat": 4,
 "nbformat_minor": 2
}
